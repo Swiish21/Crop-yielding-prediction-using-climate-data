{
 "cells": [
  {
   "cell_type": "code",
   "execution_count": null,
   "id": "ad9e068d",
   "metadata": {},
   "outputs": [],
   "source": [
    "from src.data_loader import load_crop_data, load_climate_data, merge_datasets\n",
    "from src.preprocessing import clean_data\n",
    "import seaborn as sns\n",
    "import matplotlib.pyplot as plt\n",
    "\n",
    "crop = load_crop_data()\n",
    "climate = load_climate_data()\n",
    "df = merge_datasets(crop, climate)\n",
    "df = clean_data(df)\n",
    "\n",
    "#correaltion heatmap\n",
    "sns.heatmap(df.corr(), annot=True, cmap='YlGnBu')\n",
    "plt.title('Correlation Heatmap of Crop and Climate Data')\n",
    "plt.show()\n",
    "\n",
    "#Yield over years\n",
    "sns.lineplot(data=df, x='year', y='yield', hue='Region')\n",
    "plt.title('Crop Yield Over Years by Region')\n",
    "plt.show()"
   ]
  }
 ],
 "metadata": {
  "language_info": {
   "name": "python"
  }
 },
 "nbformat": 4,
 "nbformat_minor": 5
}
